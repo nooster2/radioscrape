{
 "cells": [
  {
   "cell_type": "code",
   "execution_count": 1,
   "metadata": {},
   "outputs": [
    {
     "name": "stdout",
     "output_type": "stream",
     "text": [
      "Schon in DB: 2018-03-20T20:04\n",
      "Schon in DB: 2018-03-20T20:08\n",
      "Schon in DB: 2018-03-20T20:14\n",
      "Schon in DB: 2018-03-20T20:17\n",
      "Schon in DB: 2018-03-20T20:21\n",
      "Schon in DB: 2018-03-20T20:24\n",
      "Schon in DB: 2018-03-20T20:27\n",
      "Schon in DB: 2018-03-20T20:32\n",
      "Schon in DB: 2018-03-20T20:36\n",
      "Schon in DB: 2018-03-20T20:42\n",
      "Schon in DB: 2018-03-20T20:45\n",
      "Schon in DB: 2018-03-20T20:49\n",
      "Schon in DB: 2018-03-20T20:53\n",
      "Schon in DB: 2018-03-20T20:55\n"
     ]
    },
    {
     "name": "stderr",
     "output_type": "stream",
     "text": [
      "ERROR:root:An unexpected error occurred while tokenizing input\n",
      "The following traceback may be corrupted or invalid\n",
      "The error message is: ('EOF in multi-line string', (1, 16))\n",
      "\n"
     ]
    },
    {
     "ename": "TypeError",
     "evalue": "'NoneType' object is not subscriptable",
     "output_type": "error",
     "traceback": [
      "\u001b[1;31m---------------------------------------------------------------------------\u001b[0m",
      "\u001b[1;31mTypeError\u001b[0m                                 Traceback (most recent call last)",
      "\u001b[1;32m~\\Documents\\git-Projekte\\radioscrape\\bayern3parser.py\u001b[0m in \u001b[0;36m<module>\u001b[1;34m()\u001b[0m\n\u001b[0;32m     28\u001b[0m \u001b[1;33m\u001b[0m\u001b[0m\n\u001b[0;32m     29\u001b[0m             \u001b[1;31m# In Datenbank eintragen\u001b[0m\u001b[1;33m\u001b[0m\u001b[1;33m\u001b[0m\u001b[0m\n\u001b[1;32m---> 30\u001b[1;33m             \u001b[0mbayern3\u001b[0m\u001b[1;33m.\u001b[0m\u001b[0meintragen\u001b[0m\u001b[1;33m(\u001b[0m\u001b[0mdatum_zeit\u001b[0m\u001b[1;33m,\u001b[0m \u001b[0minterpret\u001b[0m\u001b[1;33m,\u001b[0m \u001b[0mtitel\u001b[0m\u001b[1;33m)\u001b[0m\u001b[1;33m\u001b[0m\u001b[0m\n\u001b[0m\u001b[0;32m     31\u001b[0m \u001b[1;33m\u001b[0m\u001b[0m\n\u001b[0;32m     32\u001b[0m         \u001b[1;31m# nächste URL\u001b[0m\u001b[1;33m\u001b[0m\u001b[1;33m\u001b[0m\u001b[0m\n",
      "\u001b[1;32m~\\Documents\\git-Projekte\\radioscrape\\db.py\u001b[0m in \u001b[0;36meintragen\u001b[1;34m(self, datum_zeit, interpret, titel)\u001b[0m\n\u001b[0;32m     43\u001b[0m                 \u001b[0mINSERT\u001b[0m \u001b[0mINTO\u001b[0m \u001b[0mbayern3\u001b[0m \u001b[1;33m(\u001b[0m\u001b[0mdatum_zeit\u001b[0m\u001b[1;33m,\u001b[0m \u001b[0msong\u001b[0m\u001b[1;33m)\u001b[0m\u001b[1;33m\u001b[0m\u001b[0m\n\u001b[0;32m     44\u001b[0m                 \u001b[0mVALUES\u001b[0m \u001b[1;33m(\u001b[0m\u001b[0;31m?\u001b[0m\u001b[1;33m,\u001b[0m\u001b[0;31m \u001b[0m\u001b[0;31m?\u001b[0m\u001b[1;33m)\u001b[0m\u001b[1;33m;\u001b[0m\u001b[1;33m\u001b[0m\u001b[0m\n\u001b[1;32m---> 45\u001b[1;33m                 \"\"\", (datum_zeit, song_id[0]))\n\u001b[0m\u001b[0;32m     46\u001b[0m \u001b[1;33m\u001b[0m\u001b[0m\n\u001b[0;32m     47\u001b[0m         \u001b[1;32mexcept\u001b[0m \u001b[0msqlite3\u001b[0m\u001b[1;33m.\u001b[0m\u001b[0mIntegrityError\u001b[0m\u001b[1;33m:\u001b[0m \u001b[1;31m# Tritt auf, da die letzte URL vom letzten Mal Parsen nochmal abgearbeitet wird\u001b[0m\u001b[1;33m\u001b[0m\u001b[0m\n",
      "\u001b[1;31mTypeError\u001b[0m: 'NoneType' object is not subscriptable"
     ]
    }
   ],
   "source": [
    "%run bayern3parser.py"
   ]
  }
 ],
 "metadata": {
  "kernelspec": {
   "display_name": "Python 3",
   "language": "python",
   "name": "python3"
  },
  "language_info": {
   "codemirror_mode": {
    "name": "ipython",
    "version": 3
   },
   "file_extension": ".py",
   "mimetype": "text/x-python",
   "name": "python",
   "nbconvert_exporter": "python",
   "pygments_lexer": "ipython3",
   "version": "3.6.4"
  }
 },
 "nbformat": 4,
 "nbformat_minor": 2
}

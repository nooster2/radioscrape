{
 "cells": [
  {
   "cell_type": "code",
   "execution_count": null,
   "metadata": {},
   "outputs": [],
   "source": [
    "from sqlalchemy import create_engine\n",
    "from sqlalchemy.ext.declarative import declarative_base\n",
    "from sqlalchemy.ext.automap import automap_base\n",
    "from sqlalchemy.orm import sessionmaker\n",
    "from sqlalchemy import Column, Integer, String, DateTime\n",
    "from datetime import datetime"
   ]
  },
  {
   "cell_type": "markdown",
   "metadata": {},
   "source": [
    "Neue DB"
   ]
  },
  {
   "cell_type": "code",
   "execution_count": null,
   "metadata": {},
   "outputs": [],
   "source": [
    "engine_neu = create_engine('sqlite:////home/alex/PythonProjekte/radioscrape/db.sqlite3')\n",
    "Session_neu = sessionmaker(bind=engine_neu)\n",
    "session_neu = Session_neu()\n",
    "Base_neu = declarative_base()"
   ]
  },
  {
   "cell_type": "code",
   "execution_count": null,
   "metadata": {},
   "outputs": [],
   "source": [
    "class Bayern3(Base_neu):\n",
    "    __tablename__ = 'bayern3'\n",
    "    \n",
    "    id = Column(Integer, primary_key=True)\n",
    "    datum_zeit = Column(DateTime)\n",
    "    interpret = Column(String)\n",
    "    titel = Column(String)\n",
    "\n",
    "class LetzteSeite(Base_neu):\n",
    "    __tablename__ = 'letzte_url'\n",
    "    \n",
    "    id = Column(Integer, primary_key=True)\n",
    "    url = Column(String)"
   ]
  },
  {
   "cell_type": "markdown",
   "metadata": {},
   "source": [
    "Alte DB"
   ]
  },
  {
   "cell_type": "code",
   "execution_count": null,
   "metadata": {},
   "outputs": [],
   "source": [
    "engine_alt = create_engine('sqlite:////home/alex/PythonProjekte/radioscrape/db_alt.sqlite3')"
   ]
  },
  {
   "cell_type": "code",
   "execution_count": null,
   "metadata": {},
   "outputs": [],
   "source": [
    "Base_alt = automap_base()\n",
    "# reflect the tables\n",
    "Base_alt.prepare(engine_alt, reflect=True)\n",
    "# mapped classes are now created with names by default\n",
    "# matching that of the table name.\n",
    "Bayern_alt = Base_alt.classes.bayern3\n",
    "Url_alt = Base_alt.classes.letzte_url"
   ]
  },
  {
   "cell_type": "code",
   "execution_count": null,
   "metadata": {},
   "outputs": [],
   "source": [
    "Session_alt = sessionmaker(bind=engine_alt)\n",
    "session_alt = Session_alt()"
   ]
  },
  {
   "cell_type": "markdown",
   "metadata": {},
   "source": [
    "Übertragen"
   ]
  },
  {
   "cell_type": "code",
   "execution_count": null,
   "metadata": {},
   "outputs": [],
   "source": [
    "for zeile in session_alt.query(Bayern_alt).all():\n",
    "    session_neu.add(Bayern3(datum_zeit=datetime.strptime(zeile.datum_zeit,'%Y-%m-%dT%H:%M'), interpret=zeile.interpret, titel=zeile.titel))"
   ]
  },
  {
   "cell_type": "code",
   "execution_count": null,
   "metadata": {},
   "outputs": [],
   "source": [
    "session_neu.commit()"
   ]
  },
  {
   "cell_type": "code",
   "execution_count": 9,
   "metadata": {},
   "outputs": [
    {
     "name": "stdout",
     "output_type": "stream",
     "text": [
      "2018-03-07 19:42:55,244 INFO sqlalchemy.engine.base.Engine SELECT letzte_url.id AS letzte_url_id, letzte_url.url AS letzte_url_url \n",
      "FROM letzte_url\n",
      "2018-03-07 19:42:55,300 INFO sqlalchemy.engine.base.Engine ()\n"
     ]
    }
   ],
   "source": [
    "for zeile in session_alt.query(Url_alt).all():\n",
    "    session_neu.add(LetzteSeite(url=zeile.url))"
   ]
  },
  {
   "cell_type": "code",
   "execution_count": 10,
   "metadata": {},
   "outputs": [
    {
     "name": "stdout",
     "output_type": "stream",
     "text": [
      "2018-03-07 19:43:03,432 INFO sqlalchemy.engine.base.Engine BEGIN (implicit)\n",
      "2018-03-07 19:43:03,493 INFO sqlalchemy.engine.base.Engine INSERT INTO letzte_url (url) VALUES (?)\n",
      "2018-03-07 19:43:03,497 INFO sqlalchemy.engine.base.Engine ('http://www.br.de/radio/bayern-3/bayern-3-100~playlist_date-2018-02-27_hour-21_-5389c00330c6c1aec5777fdf51388aaca6af8572.html',)\n",
      "2018-03-07 19:43:03,522 INFO sqlalchemy.engine.base.Engine COMMIT\n"
     ]
    }
   ],
   "source": [
    "session_neu.commit()"
   ]
  },
  {
   "cell_type": "code",
   "execution_count": null,
   "metadata": {},
   "outputs": [],
   "source": []
  }
 ],
 "metadata": {
  "kernelspec": {
   "display_name": "Python 3",
   "language": "python",
   "name": "python3"
  },
  "language_info": {
   "codemirror_mode": {
    "name": "ipython",
    "version": 3
   },
   "file_extension": ".py",
   "mimetype": "text/x-python",
   "name": "python",
   "nbconvert_exporter": "python",
   "pygments_lexer": "ipython3",
   "version": "3.6.3"
  }
 },
 "nbformat": 4,
 "nbformat_minor": 2
}

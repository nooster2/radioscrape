{
 "cells": [
  {
   "cell_type": "markdown",
   "metadata": {},
   "source": [
    "# Declare a Mapping"
   ]
  },
  {
   "cell_type": "code",
   "execution_count": 1,
   "metadata": {},
   "outputs": [],
   "source": [
    "import sqlalchemy"
   ]
  },
  {
   "cell_type": "code",
   "execution_count": 2,
   "metadata": {},
   "outputs": [],
   "source": [
    "from sqlalchemy import create_engine\n",
    "from sqlalchemy.ext.declarative import declarative_base\n",
    "from sqlalchemy import Column, Integer, String, DateTime"
   ]
  },
  {
   "cell_type": "code",
   "execution_count": 3,
   "metadata": {},
   "outputs": [],
   "source": [
    "engine = create_engine('sqlite:////home/alex/PythonProjekte/radioscrape/db.sqlite3', echo=True)"
   ]
  },
  {
   "cell_type": "code",
   "execution_count": 4,
   "metadata": {},
   "outputs": [],
   "source": [
    "Base = declarative_base()"
   ]
  },
  {
   "cell_type": "code",
   "execution_count": 5,
   "metadata": {},
   "outputs": [],
   "source": [
    "class Song(Base):\n",
    "    __tablename__ = 'bayern3'\n",
    "    \n",
    "    id = Column(Integer, primary_key=True)\n",
    "    datum_zeit = Column(DateTime)\n",
    "    interpret = Column(String)\n",
    "    titel = Column(String)"
   ]
  },
  {
   "cell_type": "markdown",
   "metadata": {},
   "source": [
    "# Create a Schema"
   ]
  },
  {
   "cell_type": "code",
   "execution_count": 6,
   "metadata": {},
   "outputs": [
    {
     "name": "stdout",
     "output_type": "stream",
     "text": [
      "2018-03-06 18:15:52,149 INFO sqlalchemy.engine.base.Engine SELECT CAST('test plain returns' AS VARCHAR(60)) AS anon_1\n",
      "2018-03-06 18:15:52,152 INFO sqlalchemy.engine.base.Engine ()\n",
      "2018-03-06 18:15:52,156 INFO sqlalchemy.engine.base.Engine SELECT CAST('test unicode returns' AS VARCHAR(60)) AS anon_1\n",
      "2018-03-06 18:15:52,158 INFO sqlalchemy.engine.base.Engine ()\n",
      "2018-03-06 18:15:52,187 INFO sqlalchemy.engine.base.Engine PRAGMA table_info(\"bayern3\")\n",
      "2018-03-06 18:15:52,188 INFO sqlalchemy.engine.base.Engine ()\n",
      "2018-03-06 18:15:52,191 INFO sqlalchemy.engine.base.Engine \n",
      "CREATE TABLE bayern3 (\n",
      "\tid INTEGER NOT NULL, \n",
      "\tdatum_zeit DATETIME, \n",
      "\tinterpret VARCHAR, \n",
      "\ttitel VARCHAR, \n",
      "\tPRIMARY KEY (id)\n",
      ")\n",
      "\n",
      "\n",
      "2018-03-06 18:15:52,191 INFO sqlalchemy.engine.base.Engine ()\n",
      "2018-03-06 18:15:52,197 INFO sqlalchemy.engine.base.Engine COMMIT\n"
     ]
    }
   ],
   "source": [
    "Base.metadata.create_all(engine)"
   ]
  },
  {
   "cell_type": "code",
   "execution_count": null,
   "metadata": {},
   "outputs": [],
   "source": []
  }
 ],
 "metadata": {
  "kernelspec": {
   "display_name": "Python 3",
   "language": "python",
   "name": "python3"
  },
  "language_info": {
   "codemirror_mode": {
    "name": "ipython",
    "version": 3
   },
   "file_extension": ".py",
   "mimetype": "text/x-python",
   "name": "python",
   "nbconvert_exporter": "python",
   "pygments_lexer": "ipython3",
   "version": "3.6.3"
  }
 },
 "nbformat": 4,
 "nbformat_minor": 2
}

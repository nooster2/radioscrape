{
 "cells": [
  {
   "cell_type": "markdown",
   "metadata": {},
   "source": [
    "# Verlauf der Häufigkeit der einzelnen Songs über die Wochen"
   ]
  },
  {
   "cell_type": "code",
   "execution_count": 2,
   "metadata": {},
   "outputs": [],
   "source": [
    "import sqlite3\n",
    "from datetime import datetime\n",
    "\n",
    "import pandas as pd\n",
    "import matplotlib as plt"
   ]
  },
  {
   "cell_type": "code",
   "execution_count": 3,
   "metadata": {},
   "outputs": [],
   "source": [
    "%matplotlib inline"
   ]
  },
  {
   "cell_type": "code",
   "execution_count": 4,
   "metadata": {},
   "outputs": [],
   "source": [
    "# Daten aus Datenbank laden\n",
    "connection = sqlite3.connect('../db.sqlite3')\n",
    "df = pd.read_sql_query(\"\"\"SELECT bayern3.id, datum_zeit, interpret, titel FROM bayern3 \n",
    "                        INNER JOIN songs ON bayern3.song=songs.id\"\"\", connection, index_col='id')\n",
    "connection.close()"
   ]
  },
  {
   "cell_type": "code",
   "execution_count": 5,
   "metadata": {},
   "outputs": [],
   "source": [
    "# Spalte mit der Kalenderwoche hinzufügen\n",
    "df['woche'] = pd.to_datetime(df['datum_zeit']).dt.week"
   ]
  },
  {
   "cell_type": "code",
   "execution_count": 6,
   "metadata": {},
   "outputs": [],
   "source": [
    "# Separaten DataFrame für den Vergleich\n",
    "vergleich = pd.DataFrame()\n",
    "# Eine Spalte je Kalenderwoche, titel als Index\n",
    "for i in range(5, 10):\n",
    "    vergleich['KW'+str(i)] = df[df['woche'] == i].groupby('titel').count().sort_values(by='datum_zeit', ascending=False)['datum_zeit']"
   ]
  },
  {
   "cell_type": "code",
   "execution_count": 7,
   "metadata": {},
   "outputs": [
    {
     "data": {
      "text/html": [
       "<div>\n",
       "<style scoped>\n",
       "    .dataframe tbody tr th:only-of-type {\n",
       "        vertical-align: middle;\n",
       "    }\n",
       "\n",
       "    .dataframe tbody tr th {\n",
       "        vertical-align: top;\n",
       "    }\n",
       "\n",
       "    .dataframe thead th {\n",
       "        text-align: right;\n",
       "    }\n",
       "</style>\n",
       "<table border=\"1\" class=\"dataframe\">\n",
       "  <thead>\n",
       "    <tr style=\"text-align: right;\">\n",
       "      <th></th>\n",
       "      <th>KW5</th>\n",
       "      <th>KW6</th>\n",
       "      <th>KW7</th>\n",
       "      <th>KW8</th>\n",
       "      <th>KW9</th>\n",
       "    </tr>\n",
       "    <tr>\n",
       "      <th>titel</th>\n",
       "      <th></th>\n",
       "      <th></th>\n",
       "      <th></th>\n",
       "      <th></th>\n",
       "      <th></th>\n",
       "    </tr>\n",
       "  </thead>\n",
       "  <tbody>\n",
       "    <tr>\n",
       "      <th>Crazy</th>\n",
       "      <td>33</td>\n",
       "      <td>23.0</td>\n",
       "      <td>32.0</td>\n",
       "      <td>28.0</td>\n",
       "      <td>33.0</td>\n",
       "    </tr>\n",
       "    <tr>\n",
       "      <th>Katchi</th>\n",
       "      <td>32</td>\n",
       "      <td>28.0</td>\n",
       "      <td>21.0</td>\n",
       "      <td>19.0</td>\n",
       "      <td>31.0</td>\n",
       "    </tr>\n",
       "    <tr>\n",
       "      <th>So Far Away (feat. Jamie Scott &amp; Romy Dya)</th>\n",
       "      <td>30</td>\n",
       "      <td>22.0</td>\n",
       "      <td>21.0</td>\n",
       "      <td>18.0</td>\n",
       "      <td>12.0</td>\n",
       "    </tr>\n",
       "    <tr>\n",
       "      <th>Whatever It Takes</th>\n",
       "      <td>26</td>\n",
       "      <td>20.0</td>\n",
       "      <td>22.0</td>\n",
       "      <td>19.0</td>\n",
       "      <td>25.0</td>\n",
       "    </tr>\n",
       "    <tr>\n",
       "      <th>Échame la Culpa</th>\n",
       "      <td>25</td>\n",
       "      <td>28.0</td>\n",
       "      <td>24.0</td>\n",
       "      <td>23.0</td>\n",
       "      <td>33.0</td>\n",
       "    </tr>\n",
       "    <tr>\n",
       "      <th>Frische Luft - Boogieman &amp; Pyke Remix</th>\n",
       "      <td>25</td>\n",
       "      <td>14.0</td>\n",
       "      <td>7.0</td>\n",
       "      <td>15.0</td>\n",
       "      <td>13.0</td>\n",
       "    </tr>\n",
       "    <tr>\n",
       "      <th>Feel it still</th>\n",
       "      <td>24</td>\n",
       "      <td>25.0</td>\n",
       "      <td>21.0</td>\n",
       "      <td>35.0</td>\n",
       "      <td>28.0</td>\n",
       "    </tr>\n",
       "    <tr>\n",
       "      <th>Hold on</th>\n",
       "      <td>23</td>\n",
       "      <td>12.0</td>\n",
       "      <td>17.0</td>\n",
       "      <td>14.0</td>\n",
       "      <td>10.0</td>\n",
       "    </tr>\n",
       "    <tr>\n",
       "      <th>For You</th>\n",
       "      <td>21</td>\n",
       "      <td>10.0</td>\n",
       "      <td>30.0</td>\n",
       "      <td>27.0</td>\n",
       "      <td>13.0</td>\n",
       "    </tr>\n",
       "    <tr>\n",
       "      <th>Dreamer</th>\n",
       "      <td>20</td>\n",
       "      <td>11.0</td>\n",
       "      <td>16.0</td>\n",
       "      <td>17.0</td>\n",
       "      <td>11.0</td>\n",
       "    </tr>\n",
       "  </tbody>\n",
       "</table>\n",
       "</div>"
      ],
      "text/plain": [
       "                                            KW5   KW6   KW7   KW8   KW9\n",
       "titel                                                                  \n",
       "Crazy                                        33  23.0  32.0  28.0  33.0\n",
       "Katchi                                       32  28.0  21.0  19.0  31.0\n",
       "So Far Away (feat. Jamie Scott & Romy Dya)   30  22.0  21.0  18.0  12.0\n",
       "Whatever It Takes                            26  20.0  22.0  19.0  25.0\n",
       "Échame la Culpa                              25  28.0  24.0  23.0  33.0\n",
       "Frische Luft - Boogieman & Pyke Remix        25  14.0   7.0  15.0  13.0\n",
       "Feel it still                                24  25.0  21.0  35.0  28.0\n",
       "Hold on                                      23  12.0  17.0  14.0  10.0\n",
       "For You                                      21  10.0  30.0  27.0  13.0\n",
       "Dreamer                                      20  11.0  16.0  17.0  11.0"
      ]
     },
     "execution_count": 7,
     "metadata": {},
     "output_type": "execute_result"
    }
   ],
   "source": [
    "# Alle Zeilen droppen, die NaN enthalten (liegt vor, wenn der Titel in einer Woche nicht gespielt wurde)\n",
    "vergleich = vergleich.dropna(how='any')\n",
    "# Alternativ mit 0 ersetzen\n",
    "# vergleich = vergleich.fillna(value=0)\n",
    "vergleich.head(10)"
   ]
  },
  {
   "cell_type": "code",
   "execution_count": 8,
   "metadata": {},
   "outputs": [
    {
     "data": {
      "image/png": "[encoded data removed]",
      "text/plain": [
       "<Figure size 432x288 with 1 Axes>"
      ]
     },
     "metadata": {},
     "output_type": "display_data"
    }
   ],
   "source": [
    "vergleich.T.iloc[:,0:5].plot()\n",
    "plt.pyplot.grid(True)"
   ]
  },
  {
   "cell_type": "code",
   "execution_count": null,
   "metadata": {},
   "outputs": [],
   "source": []
  }
 ],
 "metadata": {
  "kernelspec": {
   "display_name": "Python 3",
   "language": "python",
   "name": "python3"
  },
  "language_info": {
   "codemirror_mode": {
    "name": "ipython",
    "version": 3
   },
   "file_extension": ".py",
   "mimetype": "text/x-python",
   "name": "python",
   "nbconvert_exporter": "python",
   "pygments_lexer": "ipython3",
   "version": "3.6.4"
  }
 },
 "nbformat": 4,
 "nbformat_minor": 2
}

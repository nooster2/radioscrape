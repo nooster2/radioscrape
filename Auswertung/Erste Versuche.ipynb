{
 "cells": [
  {
   "cell_type": "code",
   "execution_count": null,
   "metadata": {},
   "outputs": [],
   "source": [
    "import sqlite3\n",
    "from datetime import datetime\n",
    "\n",
    "import pandas as pd"
   ]
  },
  {
   "cell_type": "code",
   "execution_count": null,
   "metadata": {},
   "outputs": [],
   "source": [
    "connection = sqlite3.connect('../db.sqlite3')"
   ]
  },
  {
   "cell_type": "markdown",
   "metadata": {},
   "source": [
    "Mittels SQL-Query Daten in einen Dataframe übertragen"
   ]
  },
  {
   "cell_type": "code",
   "execution_count": null,
   "metadata": {},
   "outputs": [],
   "source": [
    "df = pd.read_sql_query(\"\"\"SELECT bayern3.id, datum_zeit, interpret, titel FROM bayern3 \n",
    "                        INNER JOIN songs ON bayern3.song=songs.id\"\"\", connection, index_col='id')\n",
    "df.tail(20)"
   ]
  },
  {
   "cell_type": "markdown",
   "metadata": {},
   "source": [
    "Eine einzelne Woche auswählen"
   ]
  },
  {
   "cell_type": "code",
   "execution_count": null,
   "metadata": {},
   "outputs": [],
   "source": [
    "letzte_woche = df.loc[(df['datum_zeit'] >= '2018-03-05T00:00') & (df['datum_zeit'] < '2018-03-11T00:00')]"
   ]
  },
  {
   "cell_type": "markdown",
   "metadata": {},
   "source": [
    "Dataframes für einzelne Tage erzeugen"
   ]
  },
  {
   "cell_type": "code",
   "execution_count": null,
   "metadata": {},
   "outputs": [],
   "source": [
    "tage = []\n",
    "for i in range(7):\n",
    "    # Aus Wochentabelle einzelnen Tag herausziehen\n",
    "    tag = letzte_woche.loc[(letzte_woche['datum_zeit'] >= '2018-03-0'+str(5+i)) & (letzte_woche['datum_zeit'] < '2018-03-0'+str(5+i+1))]\n",
    "    # Häufigkeit der einzelnen Titel bestimmen und in neuen DataFrame schreiben\n",
    "    tag = pd.DataFrame({'2018-03-0'+str(5+i) : tag.groupby(['titel']).count()['datum_zeit']})\n",
    "    # Sortiert nach Häufigkeit an Listenelement anhängen \n",
    "    tage.append(tag.sort_values(by='2018-03-0'+str(5+i), ascending=False))"
   ]
  },
  {
   "cell_type": "markdown",
   "metadata": {},
   "source": [
    "Vergleichstabelle über gesamte Woche"
   ]
  },
  {
   "cell_type": "code",
   "execution_count": null,
   "metadata": {},
   "outputs": [],
   "source": [
    "vergleich = pd.DataFrame(tage[0])\n",
    "for i in range(1,7):\n",
    "    vergleich[tage[i].columns[0]] = tage[i]"
   ]
  },
  {
   "cell_type": "code",
   "execution_count": null,
   "metadata": {},
   "outputs": [],
   "source": [
    "vergleich.head(50)"
   ]
  },
  {
   "cell_type": "code",
   "execution_count": 142,
   "metadata": {},
   "outputs": [],
   "source": [
    "connection.close()"
   ]
  },
  {
   "cell_type": "code",
   "execution_count": null,
   "metadata": {},
   "outputs": [],
   "source": []
  }
 ],
 "metadata": {
  "kernelspec": {
   "display_name": "Python 3",
   "language": "python",
   "name": "python3"
  },
  "language_info": {
   "codemirror_mode": {
    "name": "ipython",
    "version": 3
   },
   "file_extension": ".py",
   "mimetype": "text/x-python",
   "name": "python",
   "nbconvert_exporter": "python",
   "pygments_lexer": "ipython3",
   "version": "3.6.4"
  }
 },
 "nbformat": 4,
 "nbformat_minor": 2
}

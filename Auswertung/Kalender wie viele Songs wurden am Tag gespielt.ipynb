{
 "cells": [
  {
   "cell_type": "code",
   "execution_count": null,
   "metadata": {},
   "outputs": [],
   "source": [
    "import time\n",
    "import datetime\n",
    "import sqlite3\n",
    "import pandas as pd\n",
    "import matplotlib as plt\n",
    "import seaborn as sns  # für das Styling der Ausgabe https://pandas.pydata.org/pandas-docs/stable/style.html#Builtin-Styles\n",
    "\n",
    "\n",
    "# Ziel: Wie viele Songs wurden am Tag gespielt. Am besten für das ganze Jahr\n",
    "\n",
    "# Erstmal das heutige Datum feststellen\n",
    "today = datetime.datetime.today()\n",
    "start = \"2019-01-01T00:01\"\n",
    "\n",
    "# Daten aus Datenbank laden\n",
    "connection = sqlite3.connect('../db.sqlite3')\n",
    "df = pd.read_sql_query(\"\"\"SELECT bayern3.id, datum_zeit, interpret, titel, label FROM bayern3 \n",
    "                        INNER JOIN songs ON bayern3.song=songs.id\"\"\", connection, index_col='id')\n",
    "connection.close()\n",
    "\n",
    "# Separaten DataFrame für den Vergleich\n",
    "vergleich = pd.DataFrame()\n",
    "vergleichlabel = pd.DataFrame()\n",
    "# Eine Spalte je Kalenderwoche, titel als Index\n",
    "\n",
    "for i in range(erstewoche+1, weeknr+1):\n",
    "    vergleich['KW'+str(i)] = df[df['woche'] == i].groupby('titel').count().sort_values(by='datum_zeit', ascending=False)['datum_zeit']\n",
    "    vergleichlabel['KW'+str(i)] = df[df['woche'] == i].groupby('label').count().sort_values(by='datum_zeit', ascending=False)['datum_zeit']\n",
    "\n",
    "    \n",
    "# Alle Zeilen droppen, die NaN enthalten (liegt vor, wenn der Titel in einer Woche nicht gespielt wurde)\n",
    "vergleich = vergleich.dropna(how='any')\n",
    "vergleichlabel = vergleichlabel.dropna(how='any')\n",
    "# Alternativ mit 0 ersetzen\n",
    "# vergleich = vergleich.fillna(value=0)\n",
    "\n",
    "# eine Zeile löschen, z.B. NaN im Label\n",
    "vergleichlabel = vergleichlabel.drop([\"NaN\"])\n",
    "####################################\n",
    "### funktionierende Auswertungen ###\n",
    "####################################\n",
    "\n",
    "tabelle = vergleichlabel.head(10)\n",
    "#dfweek = pd.DataFrame(vergleich, columns=[\"KW12\"]).sort_values(by='KW12', ascending=False)\n",
    "#dftitel = pd.DataFrame(vergleich, index=[\"Crazy\"])\n",
    "#dftitel\n",
    "#dfweek\n",
    "cm = sns.light_palette(\"green\", as_cmap=True)\n",
    "ergebnis = tabelle.style.background_gradient(cmap=cm)\n",
    "ergebnis"
   ]
  }
 ],
 "metadata": {
  "kernelspec": {
   "display_name": "Python 3",
   "language": "python",
   "name": "python3"
  },
  "language_info": {
   "codemirror_mode": {
    "name": "ipython",
    "version": 3
   },
   "file_extension": ".py",
   "mimetype": "text/x-python",
   "name": "python",
   "nbconvert_exporter": "python",
   "pygments_lexer": "ipython3",
   "version": "3.6.4"
  }
 },
 "nbformat": 4,
 "nbformat_minor": 2
}
